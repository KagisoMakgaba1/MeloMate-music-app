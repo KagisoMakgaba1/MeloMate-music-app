{
 "cells": [
  {
   "cell_type": "code",
   "execution_count": 1,
   "id": "daff0c03-0302-4642-ba45-703f9073838b",
   "metadata": {},
   "outputs": [],
   "source": [
    "import pandas as pd"
   ]
  },
  {
   "cell_type": "code",
   "execution_count": 3,
   "id": "9b777580-9156-406e-84e0-9a8c27c2c2c9",
   "metadata": {},
   "outputs": [],
   "source": [
    "df = pd.read_csv(\"spotify_millsongdata.csv\")"
   ]
  },
  {
   "cell_type": "code",
   "execution_count": 4,
   "id": "61ecc610-67c6-49f0-beaf-6178a60189f3",
   "metadata": {},
   "outputs": [
    {
     "data": {
      "text/html": [
       "<div>\n",
       "<style scoped>\n",
       "    .dataframe tbody tr th:only-of-type {\n",
       "        vertical-align: middle;\n",
       "    }\n",
       "\n",
       "    .dataframe tbody tr th {\n",
       "        vertical-align: top;\n",
       "    }\n",
       "\n",
       "    .dataframe thead th {\n",
       "        text-align: right;\n",
       "    }\n",
       "</style>\n",
       "<table border=\"1\" class=\"dataframe\">\n",
       "  <thead>\n",
       "    <tr style=\"text-align: right;\">\n",
       "      <th></th>\n",
       "      <th>artist</th>\n",
       "      <th>song</th>\n",
       "      <th>link</th>\n",
       "      <th>text</th>\n",
       "    </tr>\n",
       "  </thead>\n",
       "  <tbody>\n",
       "    <tr>\n",
       "      <th>0</th>\n",
       "      <td>ABBA</td>\n",
       "      <td>Ahe's My Kind Of Girl</td>\n",
       "      <td>/a/abba/ahes+my+kind+of+girl_20598417.html</td>\n",
       "      <td>Look at her face, it's a wonderful face  \\nAnd...</td>\n",
       "    </tr>\n",
       "    <tr>\n",
       "      <th>1</th>\n",
       "      <td>ABBA</td>\n",
       "      <td>Andante, Andante</td>\n",
       "      <td>/a/abba/andante+andante_20002708.html</td>\n",
       "      <td>Take it easy with me, please  \\nTouch me gentl...</td>\n",
       "    </tr>\n",
       "    <tr>\n",
       "      <th>2</th>\n",
       "      <td>ABBA</td>\n",
       "      <td>As Good As New</td>\n",
       "      <td>/a/abba/as+good+as+new_20003033.html</td>\n",
       "      <td>I'll never know why I had to go  \\nWhy I had t...</td>\n",
       "    </tr>\n",
       "    <tr>\n",
       "      <th>3</th>\n",
       "      <td>ABBA</td>\n",
       "      <td>Bang</td>\n",
       "      <td>/a/abba/bang_20598415.html</td>\n",
       "      <td>Making somebody happy is a question of give an...</td>\n",
       "    </tr>\n",
       "    <tr>\n",
       "      <th>4</th>\n",
       "      <td>ABBA</td>\n",
       "      <td>Bang-A-Boomerang</td>\n",
       "      <td>/a/abba/bang+a+boomerang_20002668.html</td>\n",
       "      <td>Making somebody happy is a question of give an...</td>\n",
       "    </tr>\n",
       "  </tbody>\n",
       "</table>\n",
       "</div>"
      ],
      "text/plain": [
       "  artist                   song                                        link  \\\n",
       "0   ABBA  Ahe's My Kind Of Girl  /a/abba/ahes+my+kind+of+girl_20598417.html   \n",
       "1   ABBA       Andante, Andante       /a/abba/andante+andante_20002708.html   \n",
       "2   ABBA         As Good As New        /a/abba/as+good+as+new_20003033.html   \n",
       "3   ABBA                   Bang                  /a/abba/bang_20598415.html   \n",
       "4   ABBA       Bang-A-Boomerang      /a/abba/bang+a+boomerang_20002668.html   \n",
       "\n",
       "                                                text  \n",
       "0  Look at her face, it's a wonderful face  \\nAnd...  \n",
       "1  Take it easy with me, please  \\nTouch me gentl...  \n",
       "2  I'll never know why I had to go  \\nWhy I had t...  \n",
       "3  Making somebody happy is a question of give an...  \n",
       "4  Making somebody happy is a question of give an...  "
      ]
     },
     "execution_count": 4,
     "metadata": {},
     "output_type": "execute_result"
    }
   ],
   "source": [
    "df.head(5)"
   ]
  },
  {
   "cell_type": "code",
   "execution_count": 5,
   "id": "269871c2-7f8c-49dd-bf96-7a5e9950828d",
   "metadata": {},
   "outputs": [
    {
     "data": {
      "text/html": [
       "<div>\n",
       "<style scoped>\n",
       "    .dataframe tbody tr th:only-of-type {\n",
       "        vertical-align: middle;\n",
       "    }\n",
       "\n",
       "    .dataframe tbody tr th {\n",
       "        vertical-align: top;\n",
       "    }\n",
       "\n",
       "    .dataframe thead th {\n",
       "        text-align: right;\n",
       "    }\n",
       "</style>\n",
       "<table border=\"1\" class=\"dataframe\">\n",
       "  <thead>\n",
       "    <tr style=\"text-align: right;\">\n",
       "      <th></th>\n",
       "      <th>artist</th>\n",
       "      <th>song</th>\n",
       "      <th>link</th>\n",
       "      <th>text</th>\n",
       "    </tr>\n",
       "  </thead>\n",
       "  <tbody>\n",
       "    <tr>\n",
       "      <th>57645</th>\n",
       "      <td>Ziggy Marley</td>\n",
       "      <td>Good Old Days</td>\n",
       "      <td>/z/ziggy+marley/good+old+days_10198588.html</td>\n",
       "      <td>Irie days come on play  \\nLet the angels fly l...</td>\n",
       "    </tr>\n",
       "    <tr>\n",
       "      <th>57646</th>\n",
       "      <td>Ziggy Marley</td>\n",
       "      <td>Hand To Mouth</td>\n",
       "      <td>/z/ziggy+marley/hand+to+mouth_20531167.html</td>\n",
       "      <td>Power to the workers  \\nMore power  \\nPower to...</td>\n",
       "    </tr>\n",
       "    <tr>\n",
       "      <th>57647</th>\n",
       "      <td>Zwan</td>\n",
       "      <td>Come With Me</td>\n",
       "      <td>/z/zwan/come+with+me_20148981.html</td>\n",
       "      <td>all you need  \\nis something i'll believe  \\nf...</td>\n",
       "    </tr>\n",
       "    <tr>\n",
       "      <th>57648</th>\n",
       "      <td>Zwan</td>\n",
       "      <td>Desire</td>\n",
       "      <td>/z/zwan/desire_20148986.html</td>\n",
       "      <td>northern star  \\nam i frightened  \\nwhere can ...</td>\n",
       "    </tr>\n",
       "    <tr>\n",
       "      <th>57649</th>\n",
       "      <td>Zwan</td>\n",
       "      <td>Heartsong</td>\n",
       "      <td>/z/zwan/heartsong_20148991.html</td>\n",
       "      <td>come in  \\nmake yourself at home  \\ni'm a bit ...</td>\n",
       "    </tr>\n",
       "  </tbody>\n",
       "</table>\n",
       "</div>"
      ],
      "text/plain": [
       "             artist           song  \\\n",
       "57645  Ziggy Marley  Good Old Days   \n",
       "57646  Ziggy Marley  Hand To Mouth   \n",
       "57647          Zwan   Come With Me   \n",
       "57648          Zwan         Desire   \n",
       "57649          Zwan      Heartsong   \n",
       "\n",
       "                                              link  \\\n",
       "57645  /z/ziggy+marley/good+old+days_10198588.html   \n",
       "57646  /z/ziggy+marley/hand+to+mouth_20531167.html   \n",
       "57647           /z/zwan/come+with+me_20148981.html   \n",
       "57648                 /z/zwan/desire_20148986.html   \n",
       "57649              /z/zwan/heartsong_20148991.html   \n",
       "\n",
       "                                                    text  \n",
       "57645  Irie days come on play  \\nLet the angels fly l...  \n",
       "57646  Power to the workers  \\nMore power  \\nPower to...  \n",
       "57647  all you need  \\nis something i'll believe  \\nf...  \n",
       "57648  northern star  \\nam i frightened  \\nwhere can ...  \n",
       "57649  come in  \\nmake yourself at home  \\ni'm a bit ...  "
      ]
     },
     "execution_count": 5,
     "metadata": {},
     "output_type": "execute_result"
    }
   ],
   "source": [
    "df.tail(5)"
   ]
  },
  {
   "cell_type": "code",
   "execution_count": 6,
   "id": "38d8f6d9-892e-4994-9382-6451f690beee",
   "metadata": {},
   "outputs": [
    {
     "data": {
      "text/plain": [
       "(57650, 4)"
      ]
     },
     "execution_count": 6,
     "metadata": {},
     "output_type": "execute_result"
    }
   ],
   "source": [
    "df.shape"
   ]
  },
  {
   "cell_type": "code",
   "execution_count": 7,
   "id": "d7055087-c919-4f4b-ba66-ec8f231b8084",
   "metadata": {},
   "outputs": [
    {
     "data": {
      "text/plain": [
       "artist    0\n",
       "song      0\n",
       "link      0\n",
       "text      0\n",
       "dtype: int64"
      ]
     },
     "execution_count": 7,
     "metadata": {},
     "output_type": "execute_result"
    }
   ],
   "source": [
    "df.isnull().sum()"
   ]
  },
  {
   "cell_type": "code",
   "execution_count": 8,
   "id": "6a9fe9a4-17c3-4233-bdd0-6a9c2965f221",
   "metadata": {},
   "outputs": [],
   "source": [
    "df =df.sample(5000).drop('link', axis=1).reset_index(drop=True)"
   ]
  },
  {
   "cell_type": "code",
   "execution_count": 9,
   "id": "5a291508-cf8c-4e3e-91b3-674f51d10465",
   "metadata": {},
   "outputs": [
    {
     "data": {
      "text/html": [
       "<div>\n",
       "<style scoped>\n",
       "    .dataframe tbody tr th:only-of-type {\n",
       "        vertical-align: middle;\n",
       "    }\n",
       "\n",
       "    .dataframe tbody tr th {\n",
       "        vertical-align: top;\n",
       "    }\n",
       "\n",
       "    .dataframe thead th {\n",
       "        text-align: right;\n",
       "    }\n",
       "</style>\n",
       "<table border=\"1\" class=\"dataframe\">\n",
       "  <thead>\n",
       "    <tr style=\"text-align: right;\">\n",
       "      <th></th>\n",
       "      <th>artist</th>\n",
       "      <th>song</th>\n",
       "      <th>text</th>\n",
       "    </tr>\n",
       "  </thead>\n",
       "  <tbody>\n",
       "    <tr>\n",
       "      <th>0</th>\n",
       "      <td>Bill Withers</td>\n",
       "      <td>Harlem</td>\n",
       "      <td>Summer night in Harlem,  \\nMan it's really hot...</td>\n",
       "    </tr>\n",
       "    <tr>\n",
       "      <th>1</th>\n",
       "      <td>Adele</td>\n",
       "      <td>Send My Love To</td>\n",
       "      <td>This was all you, none of it me  \\nYou put you...</td>\n",
       "    </tr>\n",
       "    <tr>\n",
       "      <th>2</th>\n",
       "      <td>Ellie Goulding</td>\n",
       "      <td>My Blood</td>\n",
       "      <td>That feeling, that doesn't go away just did  \\...</td>\n",
       "    </tr>\n",
       "    <tr>\n",
       "      <th>3</th>\n",
       "      <td>Cake</td>\n",
       "      <td>Sheep Go To Heaven</td>\n",
       "      <td>I'm not feeling alright today  \\nI'm not feeli...</td>\n",
       "    </tr>\n",
       "    <tr>\n",
       "      <th>4</th>\n",
       "      <td>Glee</td>\n",
       "      <td>Do They Know It's Christmas</td>\n",
       "      <td>It's Christmas time, there's no need to be afr...</td>\n",
       "    </tr>\n",
       "    <tr>\n",
       "      <th>5</th>\n",
       "      <td>Townes Van Zandt</td>\n",
       "      <td>Fare Thee Well, Miss Carousel</td>\n",
       "      <td>The drunken clown's still hanging round  \\nBut...</td>\n",
       "    </tr>\n",
       "    <tr>\n",
       "      <th>6</th>\n",
       "      <td>Howard Jones</td>\n",
       "      <td>The Balance Of Love</td>\n",
       "      <td>Price of your love's too much to pay  \\nI'll s...</td>\n",
       "    </tr>\n",
       "    <tr>\n",
       "      <th>7</th>\n",
       "      <td>The Beatles</td>\n",
       "      <td>Besame Mucho</td>\n",
       "      <td>Esame besame mucho,  \\nEach time I bring you a...</td>\n",
       "    </tr>\n",
       "    <tr>\n",
       "      <th>8</th>\n",
       "      <td>Kelly Clarkson</td>\n",
       "      <td>A Whole New World</td>\n",
       "      <td>I can show you the world,  \\nShining, shimmeri...</td>\n",
       "    </tr>\n",
       "    <tr>\n",
       "      <th>9</th>\n",
       "      <td>Richard Marx</td>\n",
       "      <td>Silent Scream</td>\n",
       "      <td>Twenty four and he believes for sure he's got ...</td>\n",
       "    </tr>\n",
       "  </tbody>\n",
       "</table>\n",
       "</div>"
      ],
      "text/plain": [
       "             artist                           song  \\\n",
       "0      Bill Withers                         Harlem   \n",
       "1             Adele                Send My Love To   \n",
       "2    Ellie Goulding                       My Blood   \n",
       "3              Cake             Sheep Go To Heaven   \n",
       "4              Glee    Do They Know It's Christmas   \n",
       "5  Townes Van Zandt  Fare Thee Well, Miss Carousel   \n",
       "6      Howard Jones            The Balance Of Love   \n",
       "7       The Beatles                   Besame Mucho   \n",
       "8    Kelly Clarkson              A Whole New World   \n",
       "9      Richard Marx                  Silent Scream   \n",
       "\n",
       "                                                text  \n",
       "0  Summer night in Harlem,  \\nMan it's really hot...  \n",
       "1  This was all you, none of it me  \\nYou put you...  \n",
       "2  That feeling, that doesn't go away just did  \\...  \n",
       "3  I'm not feeling alright today  \\nI'm not feeli...  \n",
       "4  It's Christmas time, there's no need to be afr...  \n",
       "5  The drunken clown's still hanging round  \\nBut...  \n",
       "6  Price of your love's too much to pay  \\nI'll s...  \n",
       "7  Esame besame mucho,  \\nEach time I bring you a...  \n",
       "8  I can show you the world,  \\nShining, shimmeri...  \n",
       "9  Twenty four and he believes for sure he's got ...  "
      ]
     },
     "execution_count": 9,
     "metadata": {},
     "output_type": "execute_result"
    }
   ],
   "source": [
    "df.head(10)"
   ]
  },
  {
   "cell_type": "code",
   "execution_count": 10,
   "id": "4c70693d-5bc7-4ef4-af7b-dae9424be48d",
   "metadata": {},
   "outputs": [
    {
     "data": {
      "text/plain": [
       "\"Summer night in Harlem,  \\nMan it's really hot!  \\nWell it's too hot to sleep  \\nAnd too hot to eat.  \\nI don't care if I die or not!  \\n  \\nWinter night in Harlem,  \\nOh oh radiator won't get hot,  \\nAnd that mean ole landlord  \\nHe don't care if I freeze to death or not!  \\n  \\nSaturday night in Harlem,  \\nAhh every thing's alright.  \\nYou can really swing and shake your pretty thing,  \\nThe parties are out of sight.  \\n  \\nSunday morning here in Harlem  \\nNow every body's all dressed up.  \\nThe heathen folk just getting home from the party  \\nAnd the good folk just got up.  \\nOur crooked delegation  \\nWants a donation  \\nTo send the preacher to the holy land  \\nHey hey lord honey don't give your money  \\nTo that lying, cheating man..  \\n  \\nSaturday night in Harlem,  \\nAhh every thing's alright.  \\nYou can really swing and shake your pretty thing,  \\nThe parties are out of sight.\\n\\n\""
      ]
     },
     "execution_count": 10,
     "metadata": {},
     "output_type": "execute_result"
    }
   ],
   "source": [
    "df['text'][0]"
   ]
  },
  {
   "cell_type": "code",
   "execution_count": 11,
   "id": "774fa2cd-9d9d-4241-ac51-2fd415d59d0c",
   "metadata": {},
   "outputs": [],
   "source": [
    "df = df.sample(5000)"
   ]
  },
  {
   "cell_type": "code",
   "execution_count": 12,
   "id": "8e6148ed-b741-41cd-bd56-22ffe23df460",
   "metadata": {},
   "outputs": [
    {
     "data": {
      "text/plain": [
       "(5000, 3)"
      ]
     },
     "execution_count": 12,
     "metadata": {},
     "output_type": "execute_result"
    }
   ],
   "source": [
    "df.shape"
   ]
  },
  {
   "cell_type": "markdown",
   "id": "ae9ba3bd-1fab-4181-acce-532cd1021c69",
   "metadata": {},
   "source": [
    "Text Cleaning/ Text Preprocessing"
   ]
  },
  {
   "cell_type": "code",
   "execution_count": 13,
   "id": "3f8cdf29-8087-4d7c-9178-50ce05a04de3",
   "metadata": {},
   "outputs": [],
   "source": [
    "df['text'] = df['text'].str.lower().replace(r'^\\w\\s', ' ').replace(r'\\n', ' ', regex=True)"
   ]
  },
  {
   "cell_type": "code",
   "execution_count": 14,
   "id": "27d84aab-c789-49c7-ad53-704598ebb93d",
   "metadata": {},
   "outputs": [
    {
     "data": {
      "text/html": [
       "<div>\n",
       "<style scoped>\n",
       "    .dataframe tbody tr th:only-of-type {\n",
       "        vertical-align: middle;\n",
       "    }\n",
       "\n",
       "    .dataframe tbody tr th {\n",
       "        vertical-align: top;\n",
       "    }\n",
       "\n",
       "    .dataframe thead th {\n",
       "        text-align: right;\n",
       "    }\n",
       "</style>\n",
       "<table border=\"1\" class=\"dataframe\">\n",
       "  <thead>\n",
       "    <tr style=\"text-align: right;\">\n",
       "      <th></th>\n",
       "      <th>artist</th>\n",
       "      <th>song</th>\n",
       "      <th>text</th>\n",
       "    </tr>\n",
       "  </thead>\n",
       "  <tbody>\n",
       "    <tr>\n",
       "      <th>3241</th>\n",
       "      <td>Justin Timberlake</td>\n",
       "      <td>Lets Make Love</td>\n",
       "      <td>yo yo it's justin   hey ya'll   wats up   wats...</td>\n",
       "    </tr>\n",
       "    <tr>\n",
       "      <th>4627</th>\n",
       "      <td>Peter Tosh</td>\n",
       "      <td>I Am That I Am</td>\n",
       "      <td>i'm not in this world   to live up to your exp...</td>\n",
       "    </tr>\n",
       "    <tr>\n",
       "      <th>547</th>\n",
       "      <td>Joni Mitchell</td>\n",
       "      <td>The Wolf That Lives In Lindsey</td>\n",
       "      <td>of the darkness in men's minds   what can you ...</td>\n",
       "    </tr>\n",
       "    <tr>\n",
       "      <th>3677</th>\n",
       "      <td>Britney Spears</td>\n",
       "      <td>Hey Madonna</td>\n",
       "      <td>i've got a madonnai've got a big black shiny m...</td>\n",
       "    </tr>\n",
       "    <tr>\n",
       "      <th>3828</th>\n",
       "      <td>Dusty Springfield</td>\n",
       "      <td>I Don't Want To Hear It Anymore</td>\n",
       "      <td>in my neighborhood   we don't live so good   t...</td>\n",
       "    </tr>\n",
       "    <tr>\n",
       "      <th>4048</th>\n",
       "      <td>Fall Out Boy</td>\n",
       "      <td>Headfirst Slide Into Cooperstown On A Bad Bet</td>\n",
       "      <td>mr. sandman showing his beam   when he walks i...</td>\n",
       "    </tr>\n",
       "    <tr>\n",
       "      <th>3803</th>\n",
       "      <td>Randy Travis</td>\n",
       "      <td>Feet On The Rock</td>\n",
       "      <td>well i wanna talk to you for a minute,   about...</td>\n",
       "    </tr>\n",
       "  </tbody>\n",
       "</table>\n",
       "</div>"
      ],
      "text/plain": [
       "                 artist                                           song  \\\n",
       "3241  Justin Timberlake                                 Lets Make Love   \n",
       "4627         Peter Tosh                                 I Am That I Am   \n",
       "547       Joni Mitchell                 The Wolf That Lives In Lindsey   \n",
       "3677     Britney Spears                                    Hey Madonna   \n",
       "3828  Dusty Springfield                I Don't Want To Hear It Anymore   \n",
       "4048       Fall Out Boy  Headfirst Slide Into Cooperstown On A Bad Bet   \n",
       "3803       Randy Travis                               Feet On The Rock   \n",
       "\n",
       "                                                   text  \n",
       "3241  yo yo it's justin   hey ya'll   wats up   wats...  \n",
       "4627  i'm not in this world   to live up to your exp...  \n",
       "547   of the darkness in men's minds   what can you ...  \n",
       "3677  i've got a madonnai've got a big black shiny m...  \n",
       "3828  in my neighborhood   we don't live so good   t...  \n",
       "4048  mr. sandman showing his beam   when he walks i...  \n",
       "3803  well i wanna talk to you for a minute,   about...  "
      ]
     },
     "execution_count": 14,
     "metadata": {},
     "output_type": "execute_result"
    }
   ],
   "source": [
    "df.head(7)"
   ]
  },
  {
   "cell_type": "code",
   "execution_count": 15,
   "id": "16fb9c0b-481b-47d0-959d-d08c6e6d9b25",
   "metadata": {},
   "outputs": [
    {
     "name": "stderr",
     "output_type": "stream",
     "text": [
      "[nltk_data] Downloading package punkt to\n",
      "[nltk_data]     /Users/kagisomakgaba/nltk_data...\n",
      "[nltk_data]   Package punkt is already up-to-date!\n"
     ]
    }
   ],
   "source": [
    "import nltk\n",
    "nltk.download('punkt')\n",
    "from nltk.stem.porter import PorterStemmer"
   ]
  },
  {
   "cell_type": "code",
   "execution_count": 16,
   "id": "756ad354-de9f-4384-898e-079088410ba9",
   "metadata": {},
   "outputs": [],
   "source": [
    "stemmer = PorterStemmer()"
   ]
  },
  {
   "cell_type": "code",
   "execution_count": 17,
   "id": "15604923-ecec-46f2-b9ae-d49ef173e9dd",
   "metadata": {},
   "outputs": [],
   "source": [
    "def token(txt):\n",
    "    tokens = nltk.word_tokenize(txt)\n",
    "    # Apply stemming to each token\n",
    "    stemmed_tokens = [stemmer.stem(w) for w in tokens]\n",
    "    return \" \".join(stemmed_tokens)"
   ]
  },
  {
   "cell_type": "code",
   "execution_count": 18,
   "id": "9157811f-6d21-40ec-89b5-9db89d1efbce",
   "metadata": {},
   "outputs": [
    {
     "data": {
      "text/plain": [
       "'you are beauti , beauti'"
      ]
     },
     "execution_count": 18,
     "metadata": {},
     "output_type": "execute_result"
    }
   ],
   "source": [
    "token(\"you are beautiful, beauty\")"
   ]
  },
  {
   "cell_type": "code",
   "execution_count": 19,
   "id": "1df15329-4093-407c-89fe-341c5a59d53b",
   "metadata": {},
   "outputs": [],
   "source": [
    "# Apply the tokenization function to the 'text' column\n",
    "df['text'] = df['text'].apply(lambda x: token(x))"
   ]
  },
  {
   "cell_type": "code",
   "execution_count": 20,
   "id": "4b43713b-4e7c-44c3-83a3-ca576d68bd58",
   "metadata": {},
   "outputs": [],
   "source": [
    "from sklearn.feature_extraction.text import TfidfVectorizer\n",
    "from sklearn.metrics.pairwise import cosine_similarity"
   ]
  },
  {
   "cell_type": "code",
   "execution_count": 21,
   "id": "4a3d5504-e391-488f-b43f-003a494be3af",
   "metadata": {},
   "outputs": [],
   "source": [
    "tfidvector = TfidfVectorizer(analyzer='word',stop_words='english')\n",
    "matrix = tfidvector.fit_transform(df['text'])\n",
    "similarity = cosine_similarity(matrix)"
   ]
  },
  {
   "cell_type": "code",
   "execution_count": 22,
   "id": "364fb5b9-4c7d-452f-8027-32c8b30bc340",
   "metadata": {},
   "outputs": [
    {
     "data": {
      "text/plain": [
       "array([1.        , 0.0259431 , 0.0360712 , ..., 0.03545237, 0.04642349,\n",
       "       0.07307482])"
      ]
     },
     "execution_count": 22,
     "metadata": {},
     "output_type": "execute_result"
    }
   ],
   "source": [
    "similarity[0]"
   ]
  },
  {
   "cell_type": "code",
   "execution_count": 24,
   "id": "14bb3060-b5d8-4d40-9bf2-2d6d7dc1afb7",
   "metadata": {},
   "outputs": [
    {
     "data": {
      "text/plain": [
       "np.int64(4627)"
      ]
     },
     "execution_count": 24,
     "metadata": {},
     "output_type": "execute_result"
    }
   ],
   "source": [
    "df[df['song'] == 'I Am That I Am'].index[0]"
   ]
  },
  {
   "cell_type": "markdown",
   "id": "77c6a1f5-29a5-4c5f-8a4b-b427e4632e6c",
   "metadata": {},
   "source": [
    "Recommender Function"
   ]
  },
  {
   "cell_type": "code",
   "execution_count": 25,
   "id": "d14d2308-3044-493c-ba11-6f9040aa205d",
   "metadata": {},
   "outputs": [],
   "source": [
    "def recommendation(song_name):\n",
    "    # Check if any rows match the condition\n",
    "    if df[df['song'] == song_name].empty:\n",
    "        print(f\"No recommendations found for '{song_name}'.\")\n",
    "        return\n",
    "        \n",
    "    # Get the index of the first matching row\n",
    "    idx = df[df['song'] == song_name].index[0]\n",
    "    distance = sorted(list(enumerate(similarity[idx])), reverse=True, key = lambda x: x[1])\n",
    "        \n",
    "    song = []\n",
    "    for s_id in distance[1:21]:\n",
    "        song.append(df.iloc[s_id[0]].song)\n",
    "            \n",
    "    return song"
   ]
  },
  {
   "cell_type": "code",
   "execution_count": 27,
   "id": "50916a6f-5da8-4b4a-b971-b694dbd4bd1a",
   "metadata": {},
   "outputs": [
    {
     "data": {
      "text/plain": [
       "['All Night Long',\n",
       " 'Politics',\n",
       " \"But You're Mine\",\n",
       " 'Walk Away',\n",
       " 'Hey, Soul Sister',\n",
       " 'Smile',\n",
       " 'I Wanna Be With You',\n",
       " 'Ever Open Door',\n",
       " 'All I Ever Wanted',\n",
       " 'Hey Stoopid',\n",
       " 'Summertime Blues',\n",
       " 'Look Out For My Love',\n",
       " \"She's Got That Look In Her Eyes\",\n",
       " 'Duets For One',\n",
       " 'I Look To You',\n",
       " 'Happy',\n",
       " 'Hey Hey Baby',\n",
       " \"She Look's To Me\",\n",
       " 'I Want A Lover',\n",
       " 'How Are You?']"
      ]
     },
     "execution_count": 27,
     "metadata": {},
     "output_type": "execute_result"
    }
   ],
   "source": [
    "recommendation(\"Feet On The Rock\")"
   ]
  },
  {
   "cell_type": "code",
   "execution_count": 28,
   "id": "8c02aa5c-5ca8-4dab-a09c-2f4151d05099",
   "metadata": {},
   "outputs": [],
   "source": [
    "import pickle"
   ]
  },
  {
   "cell_type": "code",
   "execution_count": 29,
   "id": "f4e2267c-3dec-4bb2-a2fb-3a8ad485e407",
   "metadata": {},
   "outputs": [],
   "source": [
    "# Save the similarity matrix\n",
    "pickle.dump(similarity, open('similarity.pkl','wb'))"
   ]
  },
  {
   "cell_type": "code",
   "execution_count": 30,
   "id": "633af6e7-dea3-4f74-8783-3b310b033956",
   "metadata": {},
   "outputs": [],
   "source": [
    "# Save the DataFrame\n",
    "pickle.dump(df, open('df.pkl','wb'))"
   ]
  },
  {
   "cell_type": "code",
   "execution_count": null,
   "id": "c15d4f7c-fe9d-4550-8245-3529bdacd876",
   "metadata": {},
   "outputs": [],
   "source": []
  }
 ],
 "metadata": {
  "kernelspec": {
   "display_name": "Python 3 (ipykernel)",
   "language": "python",
   "name": "python3"
  },
  "language_info": {
   "codemirror_mode": {
    "name": "ipython",
    "version": 3
   },
   "file_extension": ".py",
   "mimetype": "text/x-python",
   "name": "python",
   "nbconvert_exporter": "python",
   "pygments_lexer": "ipython3",
   "version": "3.12.4"
  }
 },
 "nbformat": 4,
 "nbformat_minor": 5
}
